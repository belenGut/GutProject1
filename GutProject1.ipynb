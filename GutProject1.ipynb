{
 "cells": [
  {
   "cell_type": "code",
   "execution_count": 1,
   "id": "9387ec84",
   "metadata": {},
   "outputs": [],
   "source": [
    "import pandas as pd\n",
    "import matplotlib.pyplot as plt\n",
    "import numpy as np"
   ]
  },
  {
   "cell_type": "code",
   "execution_count": 2,
   "id": "ae9f8d93",
   "metadata": {},
   "outputs": [],
   "source": [
    "comData = pd.read_csv(\"/Users/belengutierrez/Desktop/Python/GutAssignment5/comClean.txt\")\n",
    "litData = pd.read_csv(\"/Users/belengutierrez/Desktop/Python/GutAssignment5/litClean.txt\")"
   ]
  },
  {
   "cell_type": "code",
   "execution_count": 3,
   "id": "b2713798",
   "metadata": {},
   "outputs": [
    {
     "data": {
      "text/html": [
       "<div>\n",
       "<style scoped>\n",
       "    .dataframe tbody tr th:only-of-type {\n",
       "        vertical-align: middle;\n",
       "    }\n",
       "\n",
       "    .dataframe tbody tr th {\n",
       "        vertical-align: top;\n",
       "    }\n",
       "\n",
       "    .dataframe thead th {\n",
       "        text-align: right;\n",
       "    }\n",
       "</style>\n",
       "<table border=\"1\" class=\"dataframe\">\n",
       "  <thead>\n",
       "    <tr style=\"text-align: right;\">\n",
       "      <th></th>\n",
       "      <th>Get_job</th>\n",
       "      <th>Transfer_to_bachelor</th>\n",
       "      <th>Transfer_to_HS</th>\n",
       "      <th>Career_advance</th>\n",
       "      <th>Career_change</th>\n",
       "      <th>Pro_develop</th>\n",
       "      <th>Job_displace</th>\n",
       "      <th>Relocate</th>\n",
       "      <th>Keep_current</th>\n",
       "      <th>IT_certify</th>\n",
       "      <th>Financial</th>\n",
       "      <th>Personal</th>\n",
       "      <th>Age</th>\n",
       "      <th>Gender</th>\n",
       "    </tr>\n",
       "  </thead>\n",
       "  <tbody>\n",
       "    <tr>\n",
       "      <th>0</th>\n",
       "      <td>Yes</td>\n",
       "      <td>Yes</td>\n",
       "      <td>No</td>\n",
       "      <td>Yes</td>\n",
       "      <td>No</td>\n",
       "      <td>Yes</td>\n",
       "      <td>No</td>\n",
       "      <td>No</td>\n",
       "      <td>Yes</td>\n",
       "      <td>No</td>\n",
       "      <td>Yes</td>\n",
       "      <td>Yes</td>\n",
       "      <td>19-20</td>\n",
       "      <td>Man</td>\n",
       "    </tr>\n",
       "    <tr>\n",
       "      <th>1</th>\n",
       "      <td>Yes</td>\n",
       "      <td>Yes</td>\n",
       "      <td>No</td>\n",
       "      <td>Yes</td>\n",
       "      <td>Yes</td>\n",
       "      <td>Yes</td>\n",
       "      <td>No</td>\n",
       "      <td>No</td>\n",
       "      <td>No</td>\n",
       "      <td>Yes</td>\n",
       "      <td>Yes</td>\n",
       "      <td>Yes</td>\n",
       "      <td>25-34</td>\n",
       "      <td>Man</td>\n",
       "    </tr>\n",
       "    <tr>\n",
       "      <th>2</th>\n",
       "      <td>NaN</td>\n",
       "      <td>NaN</td>\n",
       "      <td>NaN</td>\n",
       "      <td>NaN</td>\n",
       "      <td>NaN</td>\n",
       "      <td>NaN</td>\n",
       "      <td>NaN</td>\n",
       "      <td>NaN</td>\n",
       "      <td>NaN</td>\n",
       "      <td>NaN</td>\n",
       "      <td>NaN</td>\n",
       "      <td>NaN</td>\n",
       "      <td>19-20</td>\n",
       "      <td>Woman</td>\n",
       "    </tr>\n",
       "    <tr>\n",
       "      <th>3</th>\n",
       "      <td>Yes</td>\n",
       "      <td>Yes</td>\n",
       "      <td>No</td>\n",
       "      <td>No</td>\n",
       "      <td>No</td>\n",
       "      <td>No</td>\n",
       "      <td>No</td>\n",
       "      <td>No</td>\n",
       "      <td>No</td>\n",
       "      <td>No</td>\n",
       "      <td>Yes</td>\n",
       "      <td>No</td>\n",
       "      <td>18 and younger</td>\n",
       "      <td>Man</td>\n",
       "    </tr>\n",
       "    <tr>\n",
       "      <th>4</th>\n",
       "      <td>Yes</td>\n",
       "      <td>No</td>\n",
       "      <td>No</td>\n",
       "      <td>Yes</td>\n",
       "      <td>Yes</td>\n",
       "      <td>Yes</td>\n",
       "      <td>No</td>\n",
       "      <td>No</td>\n",
       "      <td>Yes</td>\n",
       "      <td>Yes</td>\n",
       "      <td>Yes</td>\n",
       "      <td>Yes</td>\n",
       "      <td>25-34</td>\n",
       "      <td>Man</td>\n",
       "    </tr>\n",
       "    <tr>\n",
       "      <th>...</th>\n",
       "      <td>...</td>\n",
       "      <td>...</td>\n",
       "      <td>...</td>\n",
       "      <td>...</td>\n",
       "      <td>...</td>\n",
       "      <td>...</td>\n",
       "      <td>...</td>\n",
       "      <td>...</td>\n",
       "      <td>...</td>\n",
       "      <td>...</td>\n",
       "      <td>...</td>\n",
       "      <td>...</td>\n",
       "      <td>...</td>\n",
       "      <td>...</td>\n",
       "    </tr>\n",
       "    <tr>\n",
       "      <th>448</th>\n",
       "      <td>Yes</td>\n",
       "      <td>Yes</td>\n",
       "      <td>No</td>\n",
       "      <td>Yes</td>\n",
       "      <td>No</td>\n",
       "      <td>No</td>\n",
       "      <td>No</td>\n",
       "      <td>No</td>\n",
       "      <td>No</td>\n",
       "      <td>No</td>\n",
       "      <td>No</td>\n",
       "      <td>No</td>\n",
       "      <td>19-20</td>\n",
       "      <td>Man</td>\n",
       "    </tr>\n",
       "    <tr>\n",
       "      <th>449</th>\n",
       "      <td>No</td>\n",
       "      <td>No</td>\n",
       "      <td>No</td>\n",
       "      <td>No</td>\n",
       "      <td>No</td>\n",
       "      <td>No</td>\n",
       "      <td>No</td>\n",
       "      <td>No</td>\n",
       "      <td>No</td>\n",
       "      <td>No</td>\n",
       "      <td>No</td>\n",
       "      <td>No</td>\n",
       "      <td>21-24</td>\n",
       "      <td>Man</td>\n",
       "    </tr>\n",
       "    <tr>\n",
       "      <th>450</th>\n",
       "      <td>Yes</td>\n",
       "      <td>Yes</td>\n",
       "      <td>No</td>\n",
       "      <td>No</td>\n",
       "      <td>No</td>\n",
       "      <td>No</td>\n",
       "      <td>No</td>\n",
       "      <td>No</td>\n",
       "      <td>No</td>\n",
       "      <td>Yes</td>\n",
       "      <td>Yes</td>\n",
       "      <td>Yes</td>\n",
       "      <td>18 and younger</td>\n",
       "      <td>Man</td>\n",
       "    </tr>\n",
       "    <tr>\n",
       "      <th>451</th>\n",
       "      <td>Yes</td>\n",
       "      <td>Yes</td>\n",
       "      <td>No</td>\n",
       "      <td>No</td>\n",
       "      <td>No</td>\n",
       "      <td>Yes</td>\n",
       "      <td>No</td>\n",
       "      <td>No</td>\n",
       "      <td>No</td>\n",
       "      <td>No</td>\n",
       "      <td>No</td>\n",
       "      <td>No</td>\n",
       "      <td>19-20</td>\n",
       "      <td>Man</td>\n",
       "    </tr>\n",
       "    <tr>\n",
       "      <th>452</th>\n",
       "      <td>Yes</td>\n",
       "      <td>Yes</td>\n",
       "      <td>No</td>\n",
       "      <td>No</td>\n",
       "      <td>No</td>\n",
       "      <td>No</td>\n",
       "      <td>No</td>\n",
       "      <td>No</td>\n",
       "      <td>No</td>\n",
       "      <td>No</td>\n",
       "      <td>No</td>\n",
       "      <td>Yes</td>\n",
       "      <td>18 and younger</td>\n",
       "      <td>Man</td>\n",
       "    </tr>\n",
       "  </tbody>\n",
       "</table>\n",
       "<p>453 rows × 14 columns</p>\n",
       "</div>"
      ],
      "text/plain": [
       "    Get_job Transfer_to_bachelor Transfer_to_HS Career_advance Career_change  \\\n",
       "0       Yes                  Yes             No            Yes            No   \n",
       "1       Yes                  Yes             No            Yes           Yes   \n",
       "2       NaN                  NaN            NaN            NaN           NaN   \n",
       "3       Yes                  Yes             No             No            No   \n",
       "4       Yes                   No             No            Yes           Yes   \n",
       "..      ...                  ...            ...            ...           ...   \n",
       "448     Yes                  Yes             No            Yes            No   \n",
       "449      No                   No             No             No            No   \n",
       "450     Yes                  Yes             No             No            No   \n",
       "451     Yes                  Yes             No             No            No   \n",
       "452     Yes                  Yes             No             No            No   \n",
       "\n",
       "    Pro_develop Job_displace Relocate Keep_current IT_certify Financial  \\\n",
       "0           Yes           No       No          Yes         No       Yes   \n",
       "1           Yes           No       No           No        Yes       Yes   \n",
       "2           NaN          NaN      NaN          NaN        NaN       NaN   \n",
       "3            No           No       No           No         No       Yes   \n",
       "4           Yes           No       No          Yes        Yes       Yes   \n",
       "..          ...          ...      ...          ...        ...       ...   \n",
       "448          No           No       No           No         No        No   \n",
       "449          No           No       No           No         No        No   \n",
       "450          No           No       No           No        Yes       Yes   \n",
       "451         Yes           No       No           No         No        No   \n",
       "452          No           No       No           No         No        No   \n",
       "\n",
       "    Personal             Age Gender  \n",
       "0        Yes           19-20    Man  \n",
       "1        Yes           25-34    Man  \n",
       "2        NaN           19-20  Woman  \n",
       "3         No  18 and younger    Man  \n",
       "4        Yes           25-34    Man  \n",
       "..       ...             ...    ...  \n",
       "448       No           19-20    Man  \n",
       "449       No           21-24    Man  \n",
       "450      Yes  18 and younger    Man  \n",
       "451       No           19-20    Man  \n",
       "452      Yes  18 and younger    Man  \n",
       "\n",
       "[453 rows x 14 columns]"
      ]
     },
     "execution_count": 3,
     "metadata": {},
     "output_type": "execute_result"
    }
   ],
   "source": [
    "comData"
   ]
  },
  {
   "cell_type": "code",
   "execution_count": 4,
   "id": "a152a4d0",
   "metadata": {},
   "outputs": [],
   "source": [
    "comData2 = comData.dropna()\n",
    "litData2 = litData.dropna()"
   ]
  },
  {
   "cell_type": "code",
   "execution_count": 5,
   "id": "1b78401c",
   "metadata": {},
   "outputs": [
    {
     "data": {
      "text/html": [
       "<div>\n",
       "<style scoped>\n",
       "    .dataframe tbody tr th:only-of-type {\n",
       "        vertical-align: middle;\n",
       "    }\n",
       "\n",
       "    .dataframe tbody tr th {\n",
       "        vertical-align: top;\n",
       "    }\n",
       "\n",
       "    .dataframe thead th {\n",
       "        text-align: right;\n",
       "    }\n",
       "</style>\n",
       "<table border=\"1\" class=\"dataframe\">\n",
       "  <thead>\n",
       "    <tr style=\"text-align: right;\">\n",
       "      <th></th>\n",
       "      <th>Get_job</th>\n",
       "      <th>Transfer_to_bachelor</th>\n",
       "      <th>Transfer_to_HS</th>\n",
       "      <th>Career_advance</th>\n",
       "      <th>Career_change</th>\n",
       "      <th>Pro_develop</th>\n",
       "      <th>Job_displace</th>\n",
       "      <th>Relocate</th>\n",
       "      <th>Keep_current</th>\n",
       "      <th>IT_certify</th>\n",
       "      <th>Financial</th>\n",
       "      <th>Personal</th>\n",
       "      <th>Age</th>\n",
       "      <th>Gender</th>\n",
       "    </tr>\n",
       "  </thead>\n",
       "  <tbody>\n",
       "    <tr>\n",
       "      <th>0</th>\n",
       "      <td>Yes</td>\n",
       "      <td>Yes</td>\n",
       "      <td>No</td>\n",
       "      <td>Yes</td>\n",
       "      <td>No</td>\n",
       "      <td>Yes</td>\n",
       "      <td>No</td>\n",
       "      <td>No</td>\n",
       "      <td>Yes</td>\n",
       "      <td>No</td>\n",
       "      <td>Yes</td>\n",
       "      <td>Yes</td>\n",
       "      <td>19-20</td>\n",
       "      <td>Man</td>\n",
       "    </tr>\n",
       "    <tr>\n",
       "      <th>1</th>\n",
       "      <td>Yes</td>\n",
       "      <td>Yes</td>\n",
       "      <td>No</td>\n",
       "      <td>Yes</td>\n",
       "      <td>Yes</td>\n",
       "      <td>Yes</td>\n",
       "      <td>No</td>\n",
       "      <td>No</td>\n",
       "      <td>No</td>\n",
       "      <td>Yes</td>\n",
       "      <td>Yes</td>\n",
       "      <td>Yes</td>\n",
       "      <td>25-34</td>\n",
       "      <td>Man</td>\n",
       "    </tr>\n",
       "    <tr>\n",
       "      <th>3</th>\n",
       "      <td>Yes</td>\n",
       "      <td>Yes</td>\n",
       "      <td>No</td>\n",
       "      <td>No</td>\n",
       "      <td>No</td>\n",
       "      <td>No</td>\n",
       "      <td>No</td>\n",
       "      <td>No</td>\n",
       "      <td>No</td>\n",
       "      <td>No</td>\n",
       "      <td>Yes</td>\n",
       "      <td>No</td>\n",
       "      <td>18 and younger</td>\n",
       "      <td>Man</td>\n",
       "    </tr>\n",
       "    <tr>\n",
       "      <th>4</th>\n",
       "      <td>Yes</td>\n",
       "      <td>No</td>\n",
       "      <td>No</td>\n",
       "      <td>Yes</td>\n",
       "      <td>Yes</td>\n",
       "      <td>Yes</td>\n",
       "      <td>No</td>\n",
       "      <td>No</td>\n",
       "      <td>Yes</td>\n",
       "      <td>Yes</td>\n",
       "      <td>Yes</td>\n",
       "      <td>Yes</td>\n",
       "      <td>25-34</td>\n",
       "      <td>Man</td>\n",
       "    </tr>\n",
       "    <tr>\n",
       "      <th>5</th>\n",
       "      <td>Yes</td>\n",
       "      <td>Yes</td>\n",
       "      <td>No</td>\n",
       "      <td>Yes</td>\n",
       "      <td>No</td>\n",
       "      <td>Yes</td>\n",
       "      <td>No</td>\n",
       "      <td>No</td>\n",
       "      <td>Yes</td>\n",
       "      <td>No</td>\n",
       "      <td>Yes</td>\n",
       "      <td>Yes</td>\n",
       "      <td>19-20</td>\n",
       "      <td>Man</td>\n",
       "    </tr>\n",
       "  </tbody>\n",
       "</table>\n",
       "</div>"
      ],
      "text/plain": [
       "  Get_job Transfer_to_bachelor Transfer_to_HS Career_advance Career_change  \\\n",
       "0     Yes                  Yes             No            Yes            No   \n",
       "1     Yes                  Yes             No            Yes           Yes   \n",
       "3     Yes                  Yes             No             No            No   \n",
       "4     Yes                   No             No            Yes           Yes   \n",
       "5     Yes                  Yes             No            Yes            No   \n",
       "\n",
       "  Pro_develop Job_displace Relocate Keep_current IT_certify Financial  \\\n",
       "0         Yes           No       No          Yes         No       Yes   \n",
       "1         Yes           No       No           No        Yes       Yes   \n",
       "3          No           No       No           No         No       Yes   \n",
       "4         Yes           No       No          Yes        Yes       Yes   \n",
       "5         Yes           No       No          Yes         No       Yes   \n",
       "\n",
       "  Personal             Age Gender  \n",
       "0      Yes           19-20    Man  \n",
       "1      Yes           25-34    Man  \n",
       "3       No  18 and younger    Man  \n",
       "4      Yes           25-34    Man  \n",
       "5      Yes           19-20    Man  "
      ]
     },
     "execution_count": 5,
     "metadata": {},
     "output_type": "execute_result"
    }
   ],
   "source": [
    "comData2.head(5)"
   ]
  },
  {
   "cell_type": "code",
   "execution_count": 6,
   "id": "63e46052",
   "metadata": {},
   "outputs": [
    {
     "data": {
      "text/html": [
       "<div>\n",
       "<style scoped>\n",
       "    .dataframe tbody tr th:only-of-type {\n",
       "        vertical-align: middle;\n",
       "    }\n",
       "\n",
       "    .dataframe tbody tr th {\n",
       "        vertical-align: top;\n",
       "    }\n",
       "\n",
       "    .dataframe thead th {\n",
       "        text-align: right;\n",
       "    }\n",
       "</style>\n",
       "<table border=\"1\" class=\"dataframe\">\n",
       "  <thead>\n",
       "    <tr style=\"text-align: right;\">\n",
       "      <th></th>\n",
       "      <th>Keep_current</th>\n",
       "      <th>Curiosity</th>\n",
       "      <th>Personal</th>\n",
       "      <th>Career_advance</th>\n",
       "      <th>Career_change</th>\n",
       "      <th>Pro_develop</th>\n",
       "      <th>Job_displace</th>\n",
       "      <th>Financial</th>\n",
       "      <th>Relocate</th>\n",
       "      <th>IT_certify</th>\n",
       "      <th>Required</th>\n",
       "      <th>Course</th>\n",
       "    </tr>\n",
       "  </thead>\n",
       "  <tbody>\n",
       "    <tr>\n",
       "      <th>0</th>\n",
       "      <td>No</td>\n",
       "      <td>Yes</td>\n",
       "      <td>Yes</td>\n",
       "      <td>Yes</td>\n",
       "      <td>Yes</td>\n",
       "      <td>Yes</td>\n",
       "      <td>No</td>\n",
       "      <td>No</td>\n",
       "      <td>No</td>\n",
       "      <td>No</td>\n",
       "      <td>Yes</td>\n",
       "      <td>CMP 101 Computer Information Literacy</td>\n",
       "    </tr>\n",
       "    <tr>\n",
       "      <th>1</th>\n",
       "      <td>No</td>\n",
       "      <td>No</td>\n",
       "      <td>No</td>\n",
       "      <td>No</td>\n",
       "      <td>No</td>\n",
       "      <td>No</td>\n",
       "      <td>No</td>\n",
       "      <td>No</td>\n",
       "      <td>No</td>\n",
       "      <td>No</td>\n",
       "      <td>Yes</td>\n",
       "      <td>CMP 135 Computer Concepts with Applications</td>\n",
       "    </tr>\n",
       "    <tr>\n",
       "      <th>2</th>\n",
       "      <td>Yes</td>\n",
       "      <td>No</td>\n",
       "      <td>Yes</td>\n",
       "      <td>Yes</td>\n",
       "      <td>No</td>\n",
       "      <td>No</td>\n",
       "      <td>No</td>\n",
       "      <td>No</td>\n",
       "      <td>No</td>\n",
       "      <td>No</td>\n",
       "      <td>Yes</td>\n",
       "      <td>CMP 135 Computer Concepts with Applications</td>\n",
       "    </tr>\n",
       "    <tr>\n",
       "      <th>3</th>\n",
       "      <td>No</td>\n",
       "      <td>No</td>\n",
       "      <td>No</td>\n",
       "      <td>No</td>\n",
       "      <td>No</td>\n",
       "      <td>No</td>\n",
       "      <td>No</td>\n",
       "      <td>No</td>\n",
       "      <td>No</td>\n",
       "      <td>No</td>\n",
       "      <td>Yes</td>\n",
       "      <td>CMP 135 Computer Concepts with Applications</td>\n",
       "    </tr>\n",
       "    <tr>\n",
       "      <th>4</th>\n",
       "      <td>No</td>\n",
       "      <td>No</td>\n",
       "      <td>No</td>\n",
       "      <td>No</td>\n",
       "      <td>No</td>\n",
       "      <td>No</td>\n",
       "      <td>No</td>\n",
       "      <td>No</td>\n",
       "      <td>No</td>\n",
       "      <td>No</td>\n",
       "      <td>No</td>\n",
       "      <td>CMP 101 Computer Information Literacy</td>\n",
       "    </tr>\n",
       "  </tbody>\n",
       "</table>\n",
       "</div>"
      ],
      "text/plain": [
       "  Keep_current Curiosity Personal Career_advance Career_change Pro_develop  \\\n",
       "0           No       Yes      Yes            Yes           Yes         Yes   \n",
       "1           No        No       No             No            No          No   \n",
       "2          Yes        No      Yes            Yes            No          No   \n",
       "3           No        No       No             No            No          No   \n",
       "4           No        No       No             No            No          No   \n",
       "\n",
       "  Job_displace Financial Relocate IT_certify Required  \\\n",
       "0           No        No       No         No      Yes   \n",
       "1           No        No       No         No      Yes   \n",
       "2           No        No       No         No      Yes   \n",
       "3           No        No       No         No      Yes   \n",
       "4           No        No       No         No       No   \n",
       "\n",
       "                                        Course  \n",
       "0        CMP 101 Computer Information Literacy  \n",
       "1  CMP 135 Computer Concepts with Applications  \n",
       "2  CMP 135 Computer Concepts with Applications  \n",
       "3  CMP 135 Computer Concepts with Applications  \n",
       "4        CMP 101 Computer Information Literacy  "
      ]
     },
     "execution_count": 6,
     "metadata": {},
     "output_type": "execute_result"
    }
   ],
   "source": [
    "litData2.head(5)"
   ]
  },
  {
   "cell_type": "code",
   "execution_count": 7,
   "id": "2b352396",
   "metadata": {},
   "outputs": [
    {
     "name": "stdout",
     "output_type": "stream",
     "text": [
      "310\n",
      "25\n",
      "(335, 14)\n"
     ]
    }
   ],
   "source": [
    "comGet_job_yes = comData2.Get_job.str.contains('Yes').sum()\n",
    "print(comGet_job_yes)\n",
    "comGet_job_no = comData2.Get_job.str.contains('No').sum()\n",
    "print(comGet_job_no)\n",
    "print(comData2.shape)  #310 + 25 = 335, so there are no NaN"
   ]
  },
  {
   "cell_type": "code",
   "execution_count": 8,
   "id": "5bc931cb",
   "metadata": {},
   "outputs": [
    {
     "name": "stdout",
     "output_type": "stream",
     "text": [
      "247\n",
      "88\n",
      "(335, 14)\n"
     ]
    }
   ],
   "source": [
    "comBachelor_yes = comData2.Transfer_to_bachelor.str.contains('Yes').sum()\n",
    "print(comBachelor_yes)\n",
    "comBachelor_no = comData2.Transfer_to_bachelor.str.contains('No').sum()\n",
    "print(comBachelor_no)\n",
    "print(comData2.shape)  #247 + 88 = 335, so there are no NaN"
   ]
  },
  {
   "cell_type": "code",
   "execution_count": 9,
   "id": "53bb6f89",
   "metadata": {},
   "outputs": [
    {
     "name": "stdout",
     "output_type": "stream",
     "text": [
      "49\n",
      "286\n",
      "(335, 14)\n"
     ]
    }
   ],
   "source": [
    "comHs_yes = comData2.Transfer_to_HS.str.contains('Yes').sum()\n",
    "print(comHs_yes)\n",
    "comHs_no = comData2.Transfer_to_HS.str.contains('No').sum()\n",
    "print(comHs_no)\n",
    "print(comData2.shape)  #49 + 286 = 335, so there are no NaN"
   ]
  },
  {
   "cell_type": "code",
   "execution_count": 10,
   "id": "ed477617",
   "metadata": {},
   "outputs": [
    {
     "name": "stdout",
     "output_type": "stream",
     "text": [
      "202\n",
      "133\n",
      "(335, 14)\n"
     ]
    }
   ],
   "source": [
    "comAdvance_yes = comData2.Career_advance.str.contains('Yes').sum()\n",
    "print(comAdvance_yes)\n",
    "comAdvance_no = comData2.Career_advance.str.contains('No').sum()\n",
    "print(comAdvance_no)\n",
    "print(comData2.shape)  #202 + 133 = 335, so there are no NaN"
   ]
  },
  {
   "cell_type": "code",
   "execution_count": 11,
   "id": "82beece1",
   "metadata": {},
   "outputs": [
    {
     "name": "stdout",
     "output_type": "stream",
     "text": [
      "103\n",
      "232\n",
      "(335, 14)\n"
     ]
    }
   ],
   "source": [
    "comChange_yes = comData2.Career_change.str.contains('Yes').sum()\n",
    "print(comChange_yes)\n",
    "comChange_no = comData2.Career_change.str.contains('No').sum()\n",
    "print(comChange_no)\n",
    "print(comData2.shape)  #103 + 232 = 335, so there are no NaN"
   ]
  },
  {
   "cell_type": "code",
   "execution_count": 12,
   "id": "0fe3283f",
   "metadata": {},
   "outputs": [
    {
     "name": "stdout",
     "output_type": "stream",
     "text": [
      "199\n",
      "136\n",
      "(335, 14)\n"
     ]
    }
   ],
   "source": [
    "comPro_yes = comData2.Pro_develop.str.contains('Yes').sum()\n",
    "print(comPro_yes)\n",
    "comPro_no = comData2.Pro_develop.str.contains('No').sum()\n",
    "print(comPro_no)\n",
    "print(comData2.shape)  #199 + 136 = 335, so there are no NaN"
   ]
  },
  {
   "cell_type": "code",
   "execution_count": 13,
   "id": "79cce0dd",
   "metadata": {},
   "outputs": [
    {
     "name": "stdout",
     "output_type": "stream",
     "text": [
      "39\n",
      "296\n",
      "(335, 14)\n"
     ]
    }
   ],
   "source": [
    "comDisplace_yes = comData2.Job_displace.str.contains('Yes').sum()\n",
    "print(comDisplace_yes)\n",
    "comDisplace_no = comData2.Job_displace.str.contains('No').sum()\n",
    "print(comDisplace_no)\n",
    "print(comData2.shape)  #39 + 296 = 335, so there are no NaN"
   ]
  },
  {
   "cell_type": "code",
   "execution_count": 14,
   "id": "b4d130ea",
   "metadata": {},
   "outputs": [
    {
     "name": "stdout",
     "output_type": "stream",
     "text": [
      "49\n",
      "286\n",
      "(335, 14)\n"
     ]
    }
   ],
   "source": [
    "comRelocate_yes = comData2.Relocate.str.contains('Yes').sum()\n",
    "print(comRelocate_yes)\n",
    "comRelocate_no = comData2.Relocate.str.contains('No').sum()\n",
    "print(comRelocate_no)\n",
    "print(comData2.shape)  #49 + 286 = 335, so there are no NaN"
   ]
  },
  {
   "cell_type": "code",
   "execution_count": 15,
   "id": "a9ad304f",
   "metadata": {},
   "outputs": [
    {
     "name": "stdout",
     "output_type": "stream",
     "text": [
      "168\n",
      "167\n",
      "(335, 14)\n"
     ]
    }
   ],
   "source": [
    "comCurrent_yes = comData2.Keep_current.str.contains('Yes').sum()\n",
    "print(comCurrent_yes)\n",
    "comCurrent_no = comData2.Keep_current.str.contains('No').sum()\n",
    "print(comCurrent_no)\n",
    "print(comData2.shape)  #168 + 167 = 335, so there are no NaN"
   ]
  },
  {
   "cell_type": "code",
   "execution_count": 16,
   "id": "ba897831",
   "metadata": {},
   "outputs": [
    {
     "name": "stdout",
     "output_type": "stream",
     "text": [
      "174\n",
      "161\n",
      "(335, 14)\n"
     ]
    }
   ],
   "source": [
    "comIt_yes = comData2.IT_certify.str.contains('Yes').sum()\n",
    "print(comIt_yes)\n",
    "comIt_no = comData2.IT_certify.str.contains('No').sum()\n",
    "print(comIt_no)\n",
    "print(comData2.shape)  #174 + 161 = 335, so there are no NaN"
   ]
  },
  {
   "cell_type": "code",
   "execution_count": 17,
   "id": "9dc7c23a",
   "metadata": {},
   "outputs": [
    {
     "name": "stdout",
     "output_type": "stream",
     "text": [
      "202\n",
      "133\n",
      "(335, 14)\n"
     ]
    }
   ],
   "source": [
    "comFinance_yes = comData2.Financial.str.contains('Yes').sum()\n",
    "print(comFinance_yes)\n",
    "comFinance_no = comData2.Financial.str.contains('No').sum()\n",
    "print(comFinance_no)\n",
    "print(comData2.shape)  #202 + 133 = 335, so there are no NaN"
   ]
  },
  {
   "cell_type": "code",
   "execution_count": 18,
   "id": "f6242612",
   "metadata": {},
   "outputs": [
    {
     "name": "stdout",
     "output_type": "stream",
     "text": [
      "219\n",
      "116\n",
      "(335, 14)\n"
     ]
    },
    {
     "data": {
      "text/html": [
       "<div>\n",
       "<style scoped>\n",
       "    .dataframe tbody tr th:only-of-type {\n",
       "        vertical-align: middle;\n",
       "    }\n",
       "\n",
       "    .dataframe tbody tr th {\n",
       "        vertical-align: top;\n",
       "    }\n",
       "\n",
       "    .dataframe thead th {\n",
       "        text-align: right;\n",
       "    }\n",
       "</style>\n",
       "<table border=\"1\" class=\"dataframe\">\n",
       "  <thead>\n",
       "    <tr style=\"text-align: right;\">\n",
       "      <th></th>\n",
       "      <th>Keep_current</th>\n",
       "      <th>Curiosity</th>\n",
       "      <th>Personal</th>\n",
       "      <th>Career_advance</th>\n",
       "      <th>Career_change</th>\n",
       "      <th>Pro_develop</th>\n",
       "      <th>Job_displace</th>\n",
       "      <th>Financial</th>\n",
       "      <th>Relocate</th>\n",
       "      <th>IT_certify</th>\n",
       "      <th>Required</th>\n",
       "      <th>Course</th>\n",
       "    </tr>\n",
       "  </thead>\n",
       "  <tbody>\n",
       "    <tr>\n",
       "      <th>0</th>\n",
       "      <td>No</td>\n",
       "      <td>Yes</td>\n",
       "      <td>Yes</td>\n",
       "      <td>Yes</td>\n",
       "      <td>Yes</td>\n",
       "      <td>Yes</td>\n",
       "      <td>No</td>\n",
       "      <td>No</td>\n",
       "      <td>No</td>\n",
       "      <td>No</td>\n",
       "      <td>Yes</td>\n",
       "      <td>CMP 101 Computer Information Literacy</td>\n",
       "    </tr>\n",
       "    <tr>\n",
       "      <th>1</th>\n",
       "      <td>No</td>\n",
       "      <td>No</td>\n",
       "      <td>No</td>\n",
       "      <td>No</td>\n",
       "      <td>No</td>\n",
       "      <td>No</td>\n",
       "      <td>No</td>\n",
       "      <td>No</td>\n",
       "      <td>No</td>\n",
       "      <td>No</td>\n",
       "      <td>Yes</td>\n",
       "      <td>CMP 135 Computer Concepts with Applications</td>\n",
       "    </tr>\n",
       "    <tr>\n",
       "      <th>2</th>\n",
       "      <td>Yes</td>\n",
       "      <td>No</td>\n",
       "      <td>Yes</td>\n",
       "      <td>Yes</td>\n",
       "      <td>No</td>\n",
       "      <td>No</td>\n",
       "      <td>No</td>\n",
       "      <td>No</td>\n",
       "      <td>No</td>\n",
       "      <td>No</td>\n",
       "      <td>Yes</td>\n",
       "      <td>CMP 135 Computer Concepts with Applications</td>\n",
       "    </tr>\n",
       "  </tbody>\n",
       "</table>\n",
       "</div>"
      ],
      "text/plain": [
       "  Keep_current Curiosity Personal Career_advance Career_change Pro_develop  \\\n",
       "0           No       Yes      Yes            Yes           Yes         Yes   \n",
       "1           No        No       No             No            No          No   \n",
       "2          Yes        No      Yes            Yes            No          No   \n",
       "\n",
       "  Job_displace Financial Relocate IT_certify Required  \\\n",
       "0           No        No       No         No      Yes   \n",
       "1           No        No       No         No      Yes   \n",
       "2           No        No       No         No      Yes   \n",
       "\n",
       "                                        Course  \n",
       "0        CMP 101 Computer Information Literacy  \n",
       "1  CMP 135 Computer Concepts with Applications  \n",
       "2  CMP 135 Computer Concepts with Applications  "
      ]
     },
     "execution_count": 18,
     "metadata": {},
     "output_type": "execute_result"
    }
   ],
   "source": [
    "comPersonal_yes = comData2.Personal.str.contains('Yes').sum()\n",
    "print(comPersonal_yes)\n",
    "comPersonal_no = comData2.Personal.str.contains('No').sum()\n",
    "print(comPersonal_no)\n",
    "print(comData2.shape)  #219 + 116 = 335, so there are no NaN\n",
    "litData.head(3)"
   ]
  },
  {
   "cell_type": "code",
   "execution_count": 19,
   "id": "261a88f5",
   "metadata": {},
   "outputs": [
    {
     "name": "stdout",
     "output_type": "stream",
     "text": [
      "118\n",
      "118\n",
      "(236, 12)\n"
     ]
    }
   ],
   "source": [
    "litCurrent_yes = litData2.Keep_current.str.contains('Yes').sum()\n",
    "print(litCurrent_yes)\n",
    "litCurrent_no = litData2.Keep_current.str.contains('No').sum()\n",
    "print(litCurrent_no)\n",
    "print(litData2.shape) #118 + 118 = 236, so there are no NaN"
   ]
  },
  {
   "cell_type": "code",
   "execution_count": 20,
   "id": "38321f1c",
   "metadata": {},
   "outputs": [
    {
     "name": "stdout",
     "output_type": "stream",
     "text": [
      "90\n",
      "146\n",
      "(236, 12)\n"
     ]
    }
   ],
   "source": [
    "litCurious_yes = litData2.Curiosity.str.contains('Yes').sum()\n",
    "print(litCurious_yes)\n",
    "litCurious_no = litData2.Curiosity.str.contains('No').sum()\n",
    "print(litCurious_no)\n",
    "print(litData2.shape) #90 + 146 = 236, so there are no NaN"
   ]
  },
  {
   "cell_type": "code",
   "execution_count": 21,
   "id": "fb045a74",
   "metadata": {},
   "outputs": [
    {
     "name": "stdout",
     "output_type": "stream",
     "text": [
      "83\n",
      "153\n",
      "(236, 12)\n"
     ]
    }
   ],
   "source": [
    "litPersonal_yes = litData2.Personal.str.contains('Yes').sum()\n",
    "print(litPersonal_yes)\n",
    "litPersonal_no = litData2.Personal.str.contains('No').sum()\n",
    "print(litPersonal_no)\n",
    "print(litData2.shape) #83 + 153 = 236, so there are no NaN"
   ]
  },
  {
   "cell_type": "code",
   "execution_count": 22,
   "id": "a6b5314d",
   "metadata": {},
   "outputs": [
    {
     "name": "stdout",
     "output_type": "stream",
     "text": [
      "100\n",
      "136\n",
      "(236, 12)\n"
     ]
    }
   ],
   "source": [
    "litAdvance_yes = litData2.Career_advance.str.contains('Yes').sum()\n",
    "print(litAdvance_yes)\n",
    "litAdvance_no = litData2.Career_advance.str.contains('No').sum()\n",
    "print(litAdvance_no)\n",
    "print(litData2.shape) #100 + 136 = 236, so there are no NaN"
   ]
  },
  {
   "cell_type": "code",
   "execution_count": 23,
   "id": "15274cb0",
   "metadata": {},
   "outputs": [
    {
     "name": "stdout",
     "output_type": "stream",
     "text": [
      "31\n",
      "205\n",
      "(236, 12)\n"
     ]
    }
   ],
   "source": [
    "litChange_yes = litData2.Career_change.str.contains('Yes').sum()\n",
    "print(litChange_yes)\n",
    "litChange_no = litData2.Career_change.str.contains('No').sum()\n",
    "print(litChange_no)\n",
    "print(litData2.shape) #31 + 205 = 236, so there are no NaN"
   ]
  },
  {
   "cell_type": "code",
   "execution_count": 24,
   "id": "8ab9470d",
   "metadata": {},
   "outputs": [
    {
     "name": "stdout",
     "output_type": "stream",
     "text": [
      "89\n",
      "147\n",
      "(236, 12)\n"
     ]
    }
   ],
   "source": [
    "litPro_yes = litData2.Pro_develop.str.contains('Yes').sum()\n",
    "print(litPro_yes)\n",
    "litPro_no = litData2.Pro_develop.str.contains('No').sum()\n",
    "print(litPro_no)\n",
    "print(litData2.shape) #89 + 147 = 236"
   ]
  },
  {
   "cell_type": "code",
   "execution_count": 25,
   "id": "27b0a8c4",
   "metadata": {},
   "outputs": [
    {
     "name": "stdout",
     "output_type": "stream",
     "text": [
      "26\n",
      "210\n",
      "(236, 12)\n"
     ]
    }
   ],
   "source": [
    "litDisplace_yes = litData2.Job_displace.str.contains('Yes').sum()\n",
    "print(litDisplace_yes)\n",
    "litDisplace_no = litData2.Job_displace.str.contains('No').sum()\n",
    "print(litDisplace_no)\n",
    "print(litData2.shape) #26 + 210 = 236, so there are no NaN"
   ]
  },
  {
   "cell_type": "code",
   "execution_count": 26,
   "id": "0b82c21a",
   "metadata": {},
   "outputs": [],
   "source": [
    "#comData\n",
    "#Gender: 'Man' 'Woman' 'Prefer not to say' 'I do not identify' 'Non-binary'\n",
    "#Age: '18 and younger' '19-20' '21-24' '25-34' '35-64' '65+'\n",
    "\n",
    "#litData\n",
    "#Course: 'CMP 101 Computer Information Literacy' 'CMP 126 Computer Technology and Applications'\n",
    "#'CMP 135 Computer Concepts with Applications' "
   ]
  },
  {
   "cell_type": "code",
   "execution_count": 56,
   "id": "7453609b",
   "metadata": {},
   "outputs": [],
   "source": [
    "comWoman = comData2.Gender.str.contains('Woman').sum()\n",
    "comPrefer = comData2.Gender.str.contains('Prefer').sum()\n",
    "comNot = comData2.Gender.str.contains('I do not').sum()\n",
    "comNonbin = comData2.Gender.str.contains('binary').sum()\n",
    "comMan = 0\n",
    "for gen in comData2[\"Gender\"]:\n",
    "    if len(gen) == 3: #so I only get 'Man' and not 'Woman'\n",
    "        comMan+= 1"
   ]
  },
  {
   "cell_type": "code",
   "execution_count": 28,
   "id": "a1174802",
   "metadata": {},
   "outputs": [],
   "source": [
    "com18 = comData2.Age.str.contains('18').sum()\n",
    "com19 = comData2.Age.str.contains('19').sum()\n",
    "com21 = comData2.Age.str.contains('21').sum()\n",
    "com25 = comData2.Age.str.contains('25').sum()\n",
    "com35 = comData2.Age.str.contains('35').sum()\n",
    "com65 = comData2.Age.str.contains('65').sum()"
   ]
  },
  {
   "cell_type": "code",
   "execution_count": 29,
   "id": "cf27129d",
   "metadata": {},
   "outputs": [],
   "source": [
    "litCMP101 = litData2.Course.str.contains('CMP 101')\n",
    "litCMP126 = litData2.Course.str.contains('CMP 126')\n",
    "litCMP135 = litData2.Course.str.contains('CMP 135')"
   ]
  },
  {
   "cell_type": "code",
   "execution_count": 30,
   "id": "ab402422",
   "metadata": {},
   "outputs": [],
   "source": [
    "#What are we summing?\n",
    "#For com:\n",
    "    #Motivation to seek a computing degree\n",
    "    #Age\n",
    "    #Gender\n",
    "    \n",
    "#For lit:\n",
    "    #Motivation to take a computing class\n",
    "    #Course currently taken"
   ]
  },
  {
   "cell_type": "code",
   "execution_count": 31,
   "id": "75013e51",
   "metadata": {},
   "outputs": [],
   "source": [
    "#For motivations\n",
    "#one column for each motivation\n",
    "#yes row and no row\n",
    "\n",
    "#For others\n",
    "#columns stating the options\n",
    "#row that shows sum of how many choose each option"
   ]
  },
  {
   "cell_type": "code",
   "execution_count": 32,
   "id": "05719099",
   "metadata": {},
   "outputs": [],
   "source": [
    "#Make the dataframe like this:\n",
    "#df1 = pd.DataFrame([1, 2, 3], index=[\"a\", \"b\", \"c\"], columns=[\"x\"])\n",
    "#index is row names, columns is column names"
   ]
  },
  {
   "cell_type": "code",
   "execution_count": 59,
   "id": "051f5d64",
   "metadata": {},
   "outputs": [],
   "source": [
    "comGenFrame = pd.DataFrame([comWoman, comMan, comPrefer, comNonbin, comNot], \n",
    "                           index = [\"Woman\", \"Man\", \"Prefer not to say\", \"Non-binary\", \"I do not identify\"],\n",
    "                           columns = [\"count\"])"
   ]
  },
  {
   "cell_type": "code",
   "execution_count": 34,
   "id": "2ac89fc1",
   "metadata": {},
   "outputs": [],
   "source": [
    "comAgeFrame = pd.DataFrame([com18, com19, com21, com25, com35, com65],\n",
    "                          index = [\"18 and younger\", \"19-20\", \"21-24\", \"25-34\", \"35-64\", \"65+\"],\n",
    "                          columns = [\"count\"])"
   ]
  },
  {
   "cell_type": "code",
   "execution_count": 35,
   "id": "b4294e4d",
   "metadata": {},
   "outputs": [],
   "source": [
    "#Use an array for motivation?\n",
    "#Could put motivationYes in one array, and motivationNo in another, and have both in a third array\n",
    "# ([aYes, bYes, cYes], [aNo, bNo, cNo])"
   ]
  },
  {
   "cell_type": "code",
   "execution_count": 36,
   "id": "0e8102b4",
   "metadata": {},
   "outputs": [],
   "source": [
    "#Get_job_yes, Bachelor_yes, Hs_yes, Advance_yes, Change_yes, Pro_yes, \n",
    "#Displace_yes, Relocate_yes, Current_yes, It_yes, Finance_yes, Personal_yes"
   ]
  },
  {
   "cell_type": "code",
   "execution_count": 37,
   "id": "c789c5c5",
   "metadata": {},
   "outputs": [
    {
     "data": {
      "text/plain": [
       "array([[310, 247,  49, 202, 103, 199,  39,  49, 168, 174, 202, 219],\n",
       "       [ 25,  88, 286, 133, 232, 136, 296, 286, 167, 161, 133, 116]])"
      ]
     },
     "execution_count": 37,
     "metadata": {},
     "output_type": "execute_result"
    }
   ],
   "source": [
    "comMotArray = np.array([[comGet_job_yes, comBachelor_yes, comHs_yes, comAdvance_yes, comChange_yes,\n",
    "                        comPro_yes, comDisplace_yes, comRelocate_yes, comCurrent_yes, comIt_yes,\n",
    "                        comFinance_yes, comPersonal_yes],\n",
    "                       [comGet_job_no, comBachelor_no, comHs_no, comAdvance_no, comChange_no,\n",
    "                        comPro_no, comDisplace_no, comRelocate_no, comCurrent_no, comIt_no,\n",
    "                        comFinance_no, comPersonal_no]])\n",
    "comMotArray"
   ]
  },
  {
   "cell_type": "code",
   "execution_count": 38,
   "id": "0f01a2e2",
   "metadata": {},
   "outputs": [
    {
     "data": {
      "text/html": [
       "<div>\n",
       "<style scoped>\n",
       "    .dataframe tbody tr th:only-of-type {\n",
       "        vertical-align: middle;\n",
       "    }\n",
       "\n",
       "    .dataframe tbody tr th {\n",
       "        vertical-align: top;\n",
       "    }\n",
       "\n",
       "    .dataframe thead th {\n",
       "        text-align: right;\n",
       "    }\n",
       "</style>\n",
       "<table border=\"1\" class=\"dataframe\">\n",
       "  <thead>\n",
       "    <tr style=\"text-align: right;\">\n",
       "      <th></th>\n",
       "      <th>Get Job</th>\n",
       "      <th>Bachelor Credits</th>\n",
       "      <th>High School Credits</th>\n",
       "      <th>Advance Career</th>\n",
       "      <th>Change Career</th>\n",
       "      <th>Pro Development</th>\n",
       "      <th>Job Displacement</th>\n",
       "      <th>Relocation</th>\n",
       "      <th>Stay Current</th>\n",
       "      <th>IT Certification</th>\n",
       "      <th>Financial</th>\n",
       "      <th>Personal</th>\n",
       "    </tr>\n",
       "  </thead>\n",
       "  <tbody>\n",
       "    <tr>\n",
       "      <th>Yes</th>\n",
       "      <td>310</td>\n",
       "      <td>247</td>\n",
       "      <td>49</td>\n",
       "      <td>202</td>\n",
       "      <td>103</td>\n",
       "      <td>199</td>\n",
       "      <td>39</td>\n",
       "      <td>49</td>\n",
       "      <td>168</td>\n",
       "      <td>174</td>\n",
       "      <td>202</td>\n",
       "      <td>219</td>\n",
       "    </tr>\n",
       "    <tr>\n",
       "      <th>No</th>\n",
       "      <td>25</td>\n",
       "      <td>88</td>\n",
       "      <td>286</td>\n",
       "      <td>133</td>\n",
       "      <td>232</td>\n",
       "      <td>136</td>\n",
       "      <td>296</td>\n",
       "      <td>286</td>\n",
       "      <td>167</td>\n",
       "      <td>161</td>\n",
       "      <td>133</td>\n",
       "      <td>116</td>\n",
       "    </tr>\n",
       "  </tbody>\n",
       "</table>\n",
       "</div>"
      ],
      "text/plain": [
       "     Get Job  Bachelor Credits  High School Credits  Advance Career  \\\n",
       "Yes      310               247                   49             202   \n",
       "No        25                88                  286             133   \n",
       "\n",
       "     Change Career  Pro Development  Job Displacement  Relocation  \\\n",
       "Yes            103              199                39          49   \n",
       "No             232              136               296         286   \n",
       "\n",
       "     Stay Current  IT Certification  Financial  Personal  \n",
       "Yes           168               174        202       219  \n",
       "No            167               161        133       116  "
      ]
     },
     "execution_count": 38,
     "metadata": {},
     "output_type": "execute_result"
    }
   ],
   "source": [
    "comMotFrame = pd.DataFrame(comMotArray, index = [\"Yes\", \"No\"],\n",
    "                           columns = [\"Get Job\", \"Bachelor Credits\", \"High School Credits\",\n",
    "                          \"Advance Career\", \"Change Career\", \"Pro Development\",\n",
    "                          \"Job Displacement\", \"Relocation\", \"Stay Current\",\n",
    "                          \"IT Certification\", \"Financial\", \"Personal\"])\n",
    "comMotFrame"
   ]
  },
  {
   "cell_type": "code",
   "execution_count": 39,
   "id": "11755297",
   "metadata": {},
   "outputs": [],
   "source": [
    "#Frames made:\n",
    "#comGender, comAge, comMotivation"
   ]
  },
  {
   "cell_type": "code",
   "execution_count": 40,
   "id": "c33ea9ad",
   "metadata": {},
   "outputs": [],
   "source": [
    "#plt.bar(float[comMotFrame.values], float[comMotFrame.columns])\n",
    "#comMotFrame.plot(kind = 'bar', y = 'Job Displacement')"
   ]
  },
  {
   "cell_type": "code",
   "execution_count": 41,
   "id": "46f7db93",
   "metadata": {},
   "outputs": [
    {
     "data": {
      "image/png": "[encoded data removed]",
      "text/plain": [
       "<Figure size 1900x700 with 1 Axes>"
      ]
     },
     "metadata": {},
     "output_type": "display_data"
    }
   ],
   "source": [
    "x = ['Get Job', 'Bachelor', 'High School', 'Advance Career', 'Change Career'\n",
    "    , 'Pro Develop', 'Job Displace', 'Relocation', 'Stay Current', 'IT Certify'\n",
    "    , 'Financial', 'Personal']\n",
    "\n",
    "y1=[comMotFrame['Get Job'].Yes, comMotFrame['Bachelor Credits'].Yes, comMotFrame['High School Credits'].Yes\n",
    "   , comMotFrame['Advance Career'].Yes, comMotFrame['Change Career'].Yes, comMotFrame['Pro Development'].Yes\n",
    "   , comMotFrame['Job Displacement'].Yes, comMotFrame['Relocation'].Yes, comMotFrame['Stay Current'].Yes\n",
    "   , comMotFrame['IT Certification'].Yes, comMotFrame['Financial'].Yes, comMotFrame['Personal'].Yes]\n",
    "\n",
    "y2=[comMotFrame['Get Job'].No, comMotFrame['Bachelor Credits'].No, comMotFrame['High School Credits'].No\n",
    "   , comMotFrame['Advance Career'].No, comMotFrame['Change Career'].No, comMotFrame['Pro Development'].No\n",
    "   , comMotFrame['Job Displacement'].No, comMotFrame['Relocation'].No, comMotFrame['Stay Current'].No\n",
    "   , comMotFrame['IT Certification'].No, comMotFrame['Financial'].No, comMotFrame['Personal'].No]\n",
    "\n",
    "plt.figure(figsize = (19, 7))\n",
    "\n",
    "plt.bar(x, y1, color = 'g')\n",
    "plt.bar(x, y2, bottom = y1, color = 'r')\n",
    "plt.legend(['Yes', 'No'])\n",
    "\n",
    "plt.show()\n",
    "#Bottom 5: Job Displacement, High School Credits, Relocation, Change Career, Stay Current"
   ]
  },
  {
   "cell_type": "code",
   "execution_count": 76,
   "id": "9b3bacfe",
   "metadata": {},
   "outputs": [
    {
     "data": {
      "image/png": "[encoded data removed]",
      "text/plain": [
       "<Figure size 640x480 with 1 Axes>"
      ]
     },
     "metadata": {},
     "output_type": "display_data"
    }
   ],
   "source": [
    "genderLabels = ['Woman', 'Man', 'Prefer not to say', 'Non-binary', 'I do not identify']\n",
    "genderData = (60,261,7,6,1)\n",
    "plt.pie(genderData, labels = genderLabels, autopct='%1.1f%%')\n",
    "#type(genderLabels)\n",
    "plt.show()"
   ]
  },
  {
   "cell_type": "code",
   "execution_count": 77,
   "id": "e5e8af27",
   "metadata": {},
   "outputs": [
    {
     "data": {
      "image/png": "[encoded data removed]",
      "text/plain": [
       "<Figure size 640x480 with 1 Axes>"
      ]
     },
     "metadata": {},
     "output_type": "display_data"
    }
   ],
   "source": [
    "ageLabels = ['18 and younger', '19-20', '21-24', '25-34', '35-64','65+']\n",
    "ageData = (118,102,65,33, 16, 1)\n",
    "plt.pie(ageData, labels = ageLabels, autopct='%1.1f%%')\n",
    "#g\n",
    "plt.show()"
   ]
  },
  {
   "cell_type": "code",
   "execution_count": 78,
   "id": "fef73fc3",
   "metadata": {},
   "outputs": [],
   "source": [
    "#Literacy Survey"
   ]
  },
  {
   "cell_type": "code",
   "execution_count": null,
   "id": "a76f83a1",
   "metadata": {},
   "outputs": [],
   "source": []
  }
 ],
 "metadata": {
  "kernelspec": {
   "display_name": "Python 3 (ipykernel)",
   "language": "python",
   "name": "python3"
  },
  "language_info": {
   "codemirror_mode": {
    "name": "ipython",
    "version": 3
   },
   "file_extension": ".py",
   "mimetype": "text/x-python",
   "name": "python",
   "nbconvert_exporter": "python",
   "pygments_lexer": "ipython3",
   "version": "3.10.9"
  }
 },
 "nbformat": 4,
 "nbformat_minor": 5
}
